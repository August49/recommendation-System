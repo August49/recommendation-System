{
 "cells": [
  {
   "cell_type": "code",
   "execution_count": 3,
   "metadata": {},
   "outputs": [],
   "source": [
    "#User-based nearest neighbor recommendation system\n",
    "#Cluster analysis is a technique used to group similar objects into respective categories. \n",
    "# It is a common technique used in data mining and statistical data analysis. \n",
    "# The main goal of cluster analysis is to partition a set of objects \n",
    "# into clusters such that objects in the same cluster are more similar\n",
    "# to each other than to objects in other clusters. The similarity between objects \n",
    "# is measured using a distance measure. such as Euclidean distance, Manhattan distance,Minkowski distance, \n",
    "# Pearson correlation, and Cosine similarity.The first two are distance measures, are sensitive to the scale of the data.\n",
    "# The last three are similarity measures, are not sensitive to the scale of the data. Between the pearson correlation and cosine similarity,\n",
    "# pearson correlation is more sensitive to the magnitude of the rating values, and cosine similarity is not sensitive to the magnitude of the rating values.\n",
    "#Since our recommendation system is based on the similarity between users rating, we will use cosine similarity as our distance measure,\n",
    "# because it is not sensitive to the magnitude of the rating values.\n",
    "\n",
    "#user based collaborative filtering\n",
    "#user based collaborative filtering is a technique used to predict the items that a user might like on the basis of ratings by similar users.\n",
    "#The basic idea behind this filtering is that similar users share the same interest and that similar items are liked by a user.\n",
    "#The similarity between users is calculated by using the cosine similarity measure.\n",
    "#The similarity between items is calculated by using the Pearson correlation similarity measure.\n",
    "\n"
   ]
  },
  {
   "cell_type": "code",
   "execution_count": 4,
   "metadata": {},
   "outputs": [],
   "source": [
    "#Data Source: https://raw.githubusercontent.com/YBI-Foundation/Dataset/main/Movies%20Recommendation.csv\n",
    "#Data Set Information:\n",
    "#This data set consists of:\n",
    "#* 100,000 ratings (1-5) from 943 users on 1682 movies.\n",
    "#* Each user has rated at least 20 movies.\n",
    "\n",
    "#Attribute Information:\n",
    "#* user id\n",
    "#* item id\n",
    "#* rating\n",
    "#* timestamp\n",
    "\n",
    "#Relevant Papers:\n",
    "#* F. Maxwell Harper and Joseph A. Konstan. 2015. The MovieLens Datasets: History and Context. ACM Transactions on Interactive Intelligent Systems (TiiS) 5, 4, Article 19 (December 2015), 19 pages. DOI=http://dx.doi.org/10.1145/2827872\n",
    "#* http://files.grouplens.org/papers/harper-tiis2015.pdf\n"
   ]
  },
  {
   "cell_type": "code",
   "execution_count": 5,
   "metadata": {},
   "outputs": [],
   "source": [
    "#import libraries\n",
    "import pandas as pd\n",
    "import numpy as np\n",
    "import matplotlib.pyplot as plt\n"
   ]
  },
  {
   "cell_type": "code",
   "execution_count": 6,
   "metadata": {},
   "outputs": [
    {
     "data": {
      "text/html": [
       "<div>\n",
       "<style scoped>\n",
       "    .dataframe tbody tr th:only-of-type {\n",
       "        vertical-align: middle;\n",
       "    }\n",
       "\n",
       "    .dataframe tbody tr th {\n",
       "        vertical-align: top;\n",
       "    }\n",
       "\n",
       "    .dataframe thead th {\n",
       "        text-align: right;\n",
       "    }\n",
       "</style>\n",
       "<table border=\"1\" class=\"dataframe\">\n",
       "  <thead>\n",
       "    <tr style=\"text-align: right;\">\n",
       "      <th></th>\n",
       "      <th>Movie_ID</th>\n",
       "      <th>Movie_Title</th>\n",
       "      <th>Movie_Genre</th>\n",
       "      <th>Movie_Language</th>\n",
       "      <th>Movie_Budget</th>\n",
       "      <th>Movie_Popularity</th>\n",
       "      <th>Movie_Release_Date</th>\n",
       "      <th>Movie_Revenue</th>\n",
       "      <th>Movie_Runtime</th>\n",
       "      <th>Movie_Vote</th>\n",
       "      <th>...</th>\n",
       "      <th>Movie_Homepage</th>\n",
       "      <th>Movie_Keywords</th>\n",
       "      <th>Movie_Overview</th>\n",
       "      <th>Movie_Production_House</th>\n",
       "      <th>Movie_Production_Country</th>\n",
       "      <th>Movie_Spoken_Language</th>\n",
       "      <th>Movie_Tagline</th>\n",
       "      <th>Movie_Cast</th>\n",
       "      <th>Movie_Crew</th>\n",
       "      <th>Movie_Director</th>\n",
       "    </tr>\n",
       "  </thead>\n",
       "  <tbody>\n",
       "    <tr>\n",
       "      <th>0</th>\n",
       "      <td>1</td>\n",
       "      <td>Four Rooms</td>\n",
       "      <td>Crime Comedy</td>\n",
       "      <td>en</td>\n",
       "      <td>4000000</td>\n",
       "      <td>22.876230</td>\n",
       "      <td>09-12-1995</td>\n",
       "      <td>4300000</td>\n",
       "      <td>98.0</td>\n",
       "      <td>6.5</td>\n",
       "      <td>...</td>\n",
       "      <td>NaN</td>\n",
       "      <td>hotel new year's eve witch bet hotel room</td>\n",
       "      <td>It's Ted the Bellhop's first night on the job....</td>\n",
       "      <td>[{\"name\": \"Miramax Films\", \"id\": 14}, {\"name\":...</td>\n",
       "      <td>[{\"iso_3166_1\": \"US\", \"name\": \"United States o...</td>\n",
       "      <td>[{\"iso_639_1\": \"en\", \"name\": \"English\"}]</td>\n",
       "      <td>Twelve outrageous guests. Four scandalous requ...</td>\n",
       "      <td>Tim Roth Antonio Banderas Jennifer Beals Madon...</td>\n",
       "      <td>[{'name': 'Allison Anders', 'gender': 1, 'depa...</td>\n",
       "      <td>Allison Anders</td>\n",
       "    </tr>\n",
       "    <tr>\n",
       "      <th>1</th>\n",
       "      <td>2</td>\n",
       "      <td>Star Wars</td>\n",
       "      <td>Adventure Action Science Fiction</td>\n",
       "      <td>en</td>\n",
       "      <td>11000000</td>\n",
       "      <td>126.393695</td>\n",
       "      <td>25-05-1977</td>\n",
       "      <td>775398007</td>\n",
       "      <td>121.0</td>\n",
       "      <td>8.1</td>\n",
       "      <td>...</td>\n",
       "      <td>http://www.starwars.com/films/star-wars-episod...</td>\n",
       "      <td>android galaxy hermit death star lightsaber</td>\n",
       "      <td>Princess Leia is captured and held hostage by ...</td>\n",
       "      <td>[{\"name\": \"Lucasfilm\", \"id\": 1}, {\"name\": \"Twe...</td>\n",
       "      <td>[{\"iso_3166_1\": \"US\", \"name\": \"United States o...</td>\n",
       "      <td>[{\"iso_639_1\": \"en\", \"name\": \"English\"}]</td>\n",
       "      <td>A long time ago in a galaxy far, far away...</td>\n",
       "      <td>Mark Hamill Harrison Ford Carrie Fisher Peter ...</td>\n",
       "      <td>[{'name': 'George Lucas', 'gender': 2, 'depart...</td>\n",
       "      <td>George Lucas</td>\n",
       "    </tr>\n",
       "    <tr>\n",
       "      <th>2</th>\n",
       "      <td>3</td>\n",
       "      <td>Finding Nemo</td>\n",
       "      <td>Animation Family</td>\n",
       "      <td>en</td>\n",
       "      <td>94000000</td>\n",
       "      <td>85.688789</td>\n",
       "      <td>30-05-2003</td>\n",
       "      <td>940335536</td>\n",
       "      <td>100.0</td>\n",
       "      <td>7.6</td>\n",
       "      <td>...</td>\n",
       "      <td>http://movies.disney.com/finding-nemo</td>\n",
       "      <td>father son relationship harbor underwater fish...</td>\n",
       "      <td>Nemo, an adventurous young clownfish, is unexp...</td>\n",
       "      <td>[{\"name\": \"Pixar Animation Studios\", \"id\": 3}]</td>\n",
       "      <td>[{\"iso_3166_1\": \"US\", \"name\": \"United States o...</td>\n",
       "      <td>[{\"iso_639_1\": \"en\", \"name\": \"English\"}]</td>\n",
       "      <td>There are 3.7 trillion fish in the ocean, they...</td>\n",
       "      <td>Albert Brooks Ellen DeGeneres Alexander Gould ...</td>\n",
       "      <td>[{'name': 'Andrew Stanton', 'gender': 2, 'depa...</td>\n",
       "      <td>Andrew Stanton</td>\n",
       "    </tr>\n",
       "    <tr>\n",
       "      <th>3</th>\n",
       "      <td>4</td>\n",
       "      <td>Forrest Gump</td>\n",
       "      <td>Comedy Drama Romance</td>\n",
       "      <td>en</td>\n",
       "      <td>55000000</td>\n",
       "      <td>138.133331</td>\n",
       "      <td>06-07-1994</td>\n",
       "      <td>677945399</td>\n",
       "      <td>142.0</td>\n",
       "      <td>8.2</td>\n",
       "      <td>...</td>\n",
       "      <td>NaN</td>\n",
       "      <td>vietnam veteran hippie mentally disabled runni...</td>\n",
       "      <td>A man with a low IQ has accomplished great thi...</td>\n",
       "      <td>[{\"name\": \"Paramount Pictures\", \"id\": 4}]</td>\n",
       "      <td>[{\"iso_3166_1\": \"US\", \"name\": \"United States o...</td>\n",
       "      <td>[{\"iso_639_1\": \"en\", \"name\": \"English\"}]</td>\n",
       "      <td>The world will never be the same, once you've ...</td>\n",
       "      <td>Tom Hanks Robin Wright Gary Sinise Mykelti Wil...</td>\n",
       "      <td>[{'name': 'Alan Silvestri', 'gender': 2, 'depa...</td>\n",
       "      <td>Robert Zemeckis</td>\n",
       "    </tr>\n",
       "    <tr>\n",
       "      <th>4</th>\n",
       "      <td>5</td>\n",
       "      <td>American Beauty</td>\n",
       "      <td>Drama</td>\n",
       "      <td>en</td>\n",
       "      <td>15000000</td>\n",
       "      <td>80.878605</td>\n",
       "      <td>15-09-1999</td>\n",
       "      <td>356296601</td>\n",
       "      <td>122.0</td>\n",
       "      <td>7.9</td>\n",
       "      <td>...</td>\n",
       "      <td>http://www.dreamworks.com/ab/</td>\n",
       "      <td>male nudity female nudity adultery midlife cri...</td>\n",
       "      <td>Lester Burnham, a depressed suburban father in...</td>\n",
       "      <td>[{\"name\": \"DreamWorks SKG\", \"id\": 27}, {\"name\"...</td>\n",
       "      <td>[{\"iso_3166_1\": \"US\", \"name\": \"United States o...</td>\n",
       "      <td>[{\"iso_639_1\": \"en\", \"name\": \"English\"}]</td>\n",
       "      <td>Look closer.</td>\n",
       "      <td>Kevin Spacey Annette Bening Thora Birch Wes Be...</td>\n",
       "      <td>[{'name': 'Thomas Newman', 'gender': 2, 'depar...</td>\n",
       "      <td>Sam Mendes</td>\n",
       "    </tr>\n",
       "  </tbody>\n",
       "</table>\n",
       "<p>5 rows × 21 columns</p>\n",
       "</div>"
      ],
      "text/plain": [
       "   Movie_ID      Movie_Title                       Movie_Genre Movie_Language  \\\n",
       "0         1       Four Rooms                      Crime Comedy             en   \n",
       "1         2        Star Wars  Adventure Action Science Fiction             en   \n",
       "2         3     Finding Nemo                  Animation Family             en   \n",
       "3         4     Forrest Gump              Comedy Drama Romance             en   \n",
       "4         5  American Beauty                             Drama             en   \n",
       "\n",
       "   Movie_Budget  Movie_Popularity Movie_Release_Date  Movie_Revenue  \\\n",
       "0       4000000         22.876230         09-12-1995        4300000   \n",
       "1      11000000        126.393695         25-05-1977      775398007   \n",
       "2      94000000         85.688789         30-05-2003      940335536   \n",
       "3      55000000        138.133331         06-07-1994      677945399   \n",
       "4      15000000         80.878605         15-09-1999      356296601   \n",
       "\n",
       "   Movie_Runtime  Movie_Vote  ...  \\\n",
       "0           98.0         6.5  ...   \n",
       "1          121.0         8.1  ...   \n",
       "2          100.0         7.6  ...   \n",
       "3          142.0         8.2  ...   \n",
       "4          122.0         7.9  ...   \n",
       "\n",
       "                                      Movie_Homepage  \\\n",
       "0                                                NaN   \n",
       "1  http://www.starwars.com/films/star-wars-episod...   \n",
       "2              http://movies.disney.com/finding-nemo   \n",
       "3                                                NaN   \n",
       "4                      http://www.dreamworks.com/ab/   \n",
       "\n",
       "                                      Movie_Keywords  \\\n",
       "0          hotel new year's eve witch bet hotel room   \n",
       "1        android galaxy hermit death star lightsaber   \n",
       "2  father son relationship harbor underwater fish...   \n",
       "3  vietnam veteran hippie mentally disabled runni...   \n",
       "4  male nudity female nudity adultery midlife cri...   \n",
       "\n",
       "                                      Movie_Overview  \\\n",
       "0  It's Ted the Bellhop's first night on the job....   \n",
       "1  Princess Leia is captured and held hostage by ...   \n",
       "2  Nemo, an adventurous young clownfish, is unexp...   \n",
       "3  A man with a low IQ has accomplished great thi...   \n",
       "4  Lester Burnham, a depressed suburban father in...   \n",
       "\n",
       "                              Movie_Production_House  \\\n",
       "0  [{\"name\": \"Miramax Films\", \"id\": 14}, {\"name\":...   \n",
       "1  [{\"name\": \"Lucasfilm\", \"id\": 1}, {\"name\": \"Twe...   \n",
       "2     [{\"name\": \"Pixar Animation Studios\", \"id\": 3}]   \n",
       "3          [{\"name\": \"Paramount Pictures\", \"id\": 4}]   \n",
       "4  [{\"name\": \"DreamWorks SKG\", \"id\": 27}, {\"name\"...   \n",
       "\n",
       "                            Movie_Production_Country  \\\n",
       "0  [{\"iso_3166_1\": \"US\", \"name\": \"United States o...   \n",
       "1  [{\"iso_3166_1\": \"US\", \"name\": \"United States o...   \n",
       "2  [{\"iso_3166_1\": \"US\", \"name\": \"United States o...   \n",
       "3  [{\"iso_3166_1\": \"US\", \"name\": \"United States o...   \n",
       "4  [{\"iso_3166_1\": \"US\", \"name\": \"United States o...   \n",
       "\n",
       "                      Movie_Spoken_Language  \\\n",
       "0  [{\"iso_639_1\": \"en\", \"name\": \"English\"}]   \n",
       "1  [{\"iso_639_1\": \"en\", \"name\": \"English\"}]   \n",
       "2  [{\"iso_639_1\": \"en\", \"name\": \"English\"}]   \n",
       "3  [{\"iso_639_1\": \"en\", \"name\": \"English\"}]   \n",
       "4  [{\"iso_639_1\": \"en\", \"name\": \"English\"}]   \n",
       "\n",
       "                                       Movie_Tagline  \\\n",
       "0  Twelve outrageous guests. Four scandalous requ...   \n",
       "1       A long time ago in a galaxy far, far away...   \n",
       "2  There are 3.7 trillion fish in the ocean, they...   \n",
       "3  The world will never be the same, once you've ...   \n",
       "4                                       Look closer.   \n",
       "\n",
       "                                          Movie_Cast  \\\n",
       "0  Tim Roth Antonio Banderas Jennifer Beals Madon...   \n",
       "1  Mark Hamill Harrison Ford Carrie Fisher Peter ...   \n",
       "2  Albert Brooks Ellen DeGeneres Alexander Gould ...   \n",
       "3  Tom Hanks Robin Wright Gary Sinise Mykelti Wil...   \n",
       "4  Kevin Spacey Annette Bening Thora Birch Wes Be...   \n",
       "\n",
       "                                          Movie_Crew   Movie_Director  \n",
       "0  [{'name': 'Allison Anders', 'gender': 1, 'depa...   Allison Anders  \n",
       "1  [{'name': 'George Lucas', 'gender': 2, 'depart...     George Lucas  \n",
       "2  [{'name': 'Andrew Stanton', 'gender': 2, 'depa...   Andrew Stanton  \n",
       "3  [{'name': 'Alan Silvestri', 'gender': 2, 'depa...  Robert Zemeckis  \n",
       "4  [{'name': 'Thomas Newman', 'gender': 2, 'depar...       Sam Mendes  \n",
       "\n",
       "[5 rows x 21 columns]"
      ]
     },
     "execution_count": 6,
     "metadata": {},
     "output_type": "execute_result"
    }
   ],
   "source": [
    "#read the data\n",
    "df = pd.read_csv(\"https://raw.githubusercontent.com/YBI-Foundation/Dataset/main/Movies%20Recommendation.csv\")\n",
    "df.head()"
   ]
  },
  {
   "cell_type": "code",
   "execution_count": 7,
   "metadata": {},
   "outputs": [
    {
     "data": {
      "text/html": [
       "<div>\n",
       "<style scoped>\n",
       "    .dataframe tbody tr th:only-of-type {\n",
       "        vertical-align: middle;\n",
       "    }\n",
       "\n",
       "    .dataframe tbody tr th {\n",
       "        vertical-align: top;\n",
       "    }\n",
       "\n",
       "    .dataframe thead th {\n",
       "        text-align: right;\n",
       "    }\n",
       "</style>\n",
       "<table border=\"1\" class=\"dataframe\">\n",
       "  <thead>\n",
       "    <tr style=\"text-align: right;\">\n",
       "      <th></th>\n",
       "      <th>Movie_ID</th>\n",
       "      <th>Movie_Budget</th>\n",
       "      <th>Movie_Popularity</th>\n",
       "      <th>Movie_Revenue</th>\n",
       "      <th>Movie_Runtime</th>\n",
       "      <th>Movie_Vote</th>\n",
       "      <th>Movie_Vote_Count</th>\n",
       "    </tr>\n",
       "  </thead>\n",
       "  <tbody>\n",
       "    <tr>\n",
       "      <th>count</th>\n",
       "      <td>4760.000000</td>\n",
       "      <td>4.760000e+03</td>\n",
       "      <td>4760.000000</td>\n",
       "      <td>4.760000e+03</td>\n",
       "      <td>4758.000000</td>\n",
       "      <td>4760.000000</td>\n",
       "      <td>4760.000000</td>\n",
       "    </tr>\n",
       "    <tr>\n",
       "      <th>mean</th>\n",
       "      <td>2382.566387</td>\n",
       "      <td>2.920129e+07</td>\n",
       "      <td>21.599510</td>\n",
       "      <td>8.263743e+07</td>\n",
       "      <td>107.184111</td>\n",
       "      <td>6.113866</td>\n",
       "      <td>692.508403</td>\n",
       "    </tr>\n",
       "    <tr>\n",
       "      <th>std</th>\n",
       "      <td>1377.270159</td>\n",
       "      <td>4.075620e+07</td>\n",
       "      <td>31.887919</td>\n",
       "      <td>1.630554e+08</td>\n",
       "      <td>21.960332</td>\n",
       "      <td>1.141294</td>\n",
       "      <td>1235.007337</td>\n",
       "    </tr>\n",
       "    <tr>\n",
       "      <th>min</th>\n",
       "      <td>1.000000</td>\n",
       "      <td>0.000000e+00</td>\n",
       "      <td>0.000372</td>\n",
       "      <td>0.000000e+00</td>\n",
       "      <td>0.000000</td>\n",
       "      <td>0.000000</td>\n",
       "      <td>0.000000</td>\n",
       "    </tr>\n",
       "    <tr>\n",
       "      <th>25%</th>\n",
       "      <td>1190.750000</td>\n",
       "      <td>9.257500e+05</td>\n",
       "      <td>4.807074</td>\n",
       "      <td>0.000000e+00</td>\n",
       "      <td>94.000000</td>\n",
       "      <td>5.600000</td>\n",
       "      <td>55.000000</td>\n",
       "    </tr>\n",
       "    <tr>\n",
       "      <th>50%</th>\n",
       "      <td>2380.500000</td>\n",
       "      <td>1.500000e+07</td>\n",
       "      <td>13.119058</td>\n",
       "      <td>1.944716e+07</td>\n",
       "      <td>104.000000</td>\n",
       "      <td>6.200000</td>\n",
       "      <td>238.000000</td>\n",
       "    </tr>\n",
       "    <tr>\n",
       "      <th>75%</th>\n",
       "      <td>3572.250000</td>\n",
       "      <td>4.000000e+07</td>\n",
       "      <td>28.411929</td>\n",
       "      <td>9.341276e+07</td>\n",
       "      <td>118.000000</td>\n",
       "      <td>6.800000</td>\n",
       "      <td>740.250000</td>\n",
       "    </tr>\n",
       "    <tr>\n",
       "      <th>max</th>\n",
       "      <td>4788.000000</td>\n",
       "      <td>3.800000e+08</td>\n",
       "      <td>875.581305</td>\n",
       "      <td>2.787965e+09</td>\n",
       "      <td>338.000000</td>\n",
       "      <td>10.000000</td>\n",
       "      <td>13752.000000</td>\n",
       "    </tr>\n",
       "  </tbody>\n",
       "</table>\n",
       "</div>"
      ],
      "text/plain": [
       "          Movie_ID  Movie_Budget  Movie_Popularity  Movie_Revenue  \\\n",
       "count  4760.000000  4.760000e+03       4760.000000   4.760000e+03   \n",
       "mean   2382.566387  2.920129e+07         21.599510   8.263743e+07   \n",
       "std    1377.270159  4.075620e+07         31.887919   1.630554e+08   \n",
       "min       1.000000  0.000000e+00          0.000372   0.000000e+00   \n",
       "25%    1190.750000  9.257500e+05          4.807074   0.000000e+00   \n",
       "50%    2380.500000  1.500000e+07         13.119058   1.944716e+07   \n",
       "75%    3572.250000  4.000000e+07         28.411929   9.341276e+07   \n",
       "max    4788.000000  3.800000e+08        875.581305   2.787965e+09   \n",
       "\n",
       "       Movie_Runtime   Movie_Vote  Movie_Vote_Count  \n",
       "count    4758.000000  4760.000000       4760.000000  \n",
       "mean      107.184111     6.113866        692.508403  \n",
       "std        21.960332     1.141294       1235.007337  \n",
       "min         0.000000     0.000000          0.000000  \n",
       "25%        94.000000     5.600000         55.000000  \n",
       "50%       104.000000     6.200000        238.000000  \n",
       "75%       118.000000     6.800000        740.250000  \n",
       "max       338.000000    10.000000      13752.000000  "
      ]
     },
     "execution_count": 7,
     "metadata": {},
     "output_type": "execute_result"
    }
   ],
   "source": [
    "#describe the data\n",
    "df.describe()"
   ]
  },
  {
   "cell_type": "code",
   "execution_count": 8,
   "metadata": {},
   "outputs": [
    {
     "name": "stdout",
     "output_type": "stream",
     "text": [
      "<class 'pandas.core.frame.DataFrame'>\n",
      "RangeIndex: 4760 entries, 0 to 4759\n",
      "Data columns (total 21 columns):\n",
      " #   Column                    Non-Null Count  Dtype  \n",
      "---  ------                    --------------  -----  \n",
      " 0   Movie_ID                  4760 non-null   int64  \n",
      " 1   Movie_Title               4760 non-null   object \n",
      " 2   Movie_Genre               4760 non-null   object \n",
      " 3   Movie_Language            4760 non-null   object \n",
      " 4   Movie_Budget              4760 non-null   int64  \n",
      " 5   Movie_Popularity          4760 non-null   float64\n",
      " 6   Movie_Release_Date        4760 non-null   object \n",
      " 7   Movie_Revenue             4760 non-null   int64  \n",
      " 8   Movie_Runtime             4758 non-null   float64\n",
      " 9   Movie_Vote                4760 non-null   float64\n",
      " 10  Movie_Vote_Count          4760 non-null   int64  \n",
      " 11  Movie_Homepage            1699 non-null   object \n",
      " 12  Movie_Keywords            4373 non-null   object \n",
      " 13  Movie_Overview            4757 non-null   object \n",
      " 14  Movie_Production_House    4760 non-null   object \n",
      " 15  Movie_Production_Country  4760 non-null   object \n",
      " 16  Movie_Spoken_Language     4760 non-null   object \n",
      " 17  Movie_Tagline             3942 non-null   object \n",
      " 18  Movie_Cast                4733 non-null   object \n",
      " 19  Movie_Crew                4760 non-null   object \n",
      " 20  Movie_Director            4738 non-null   object \n",
      "dtypes: float64(3), int64(4), object(14)\n",
      "memory usage: 781.1+ KB\n"
     ]
    }
   ],
   "source": [
    "#data information\n",
    "df.info()"
   ]
  },
  {
   "cell_type": "code",
   "execution_count": 9,
   "metadata": {},
   "outputs": [
    {
     "data": {
      "text/plain": [
       "(4760, 21)"
      ]
     },
     "execution_count": 9,
     "metadata": {},
     "output_type": "execute_result"
    }
   ],
   "source": [
    "#check data shape\n",
    "df.shape\n"
   ]
  },
  {
   "cell_type": "code",
   "execution_count": 10,
   "metadata": {},
   "outputs": [
    {
     "data": {
      "text/plain": [
       "Index(['Movie_ID', 'Movie_Title', 'Movie_Genre', 'Movie_Language',\n",
       "       'Movie_Budget', 'Movie_Popularity', 'Movie_Release_Date',\n",
       "       'Movie_Revenue', 'Movie_Runtime', 'Movie_Vote', 'Movie_Vote_Count',\n",
       "       'Movie_Homepage', 'Movie_Keywords', 'Movie_Overview',\n",
       "       'Movie_Production_House', 'Movie_Production_Country',\n",
       "       'Movie_Spoken_Language', 'Movie_Tagline', 'Movie_Cast', 'Movie_Crew',\n",
       "       'Movie_Director'],\n",
       "      dtype='object')"
      ]
     },
     "execution_count": 10,
     "metadata": {},
     "output_type": "execute_result"
    }
   ],
   "source": [
    "df.columns"
   ]
  },
  {
   "cell_type": "code",
   "execution_count": 11,
   "metadata": {},
   "outputs": [],
   "source": [
    "features= df[['Movie_Genre','Movie_Keywords','Movie_Tagline','Movie_Cast', 'Movie_Director']]"
   ]
  },
  {
   "cell_type": "code",
   "execution_count": 12,
   "metadata": {},
   "outputs": [
    {
     "data": {
      "text/html": [
       "<div>\n",
       "<style scoped>\n",
       "    .dataframe tbody tr th:only-of-type {\n",
       "        vertical-align: middle;\n",
       "    }\n",
       "\n",
       "    .dataframe tbody tr th {\n",
       "        vertical-align: top;\n",
       "    }\n",
       "\n",
       "    .dataframe thead th {\n",
       "        text-align: right;\n",
       "    }\n",
       "</style>\n",
       "<table border=\"1\" class=\"dataframe\">\n",
       "  <thead>\n",
       "    <tr style=\"text-align: right;\">\n",
       "      <th></th>\n",
       "      <th>Movie_Genre</th>\n",
       "      <th>Movie_Keywords</th>\n",
       "      <th>Movie_Tagline</th>\n",
       "      <th>Movie_Cast</th>\n",
       "      <th>Movie_Director</th>\n",
       "    </tr>\n",
       "  </thead>\n",
       "  <tbody>\n",
       "    <tr>\n",
       "      <th>0</th>\n",
       "      <td>Crime Comedy</td>\n",
       "      <td>hotel new year's eve witch bet hotel room</td>\n",
       "      <td>Twelve outrageous guests. Four scandalous requ...</td>\n",
       "      <td>Tim Roth Antonio Banderas Jennifer Beals Madon...</td>\n",
       "      <td>Allison Anders</td>\n",
       "    </tr>\n",
       "    <tr>\n",
       "      <th>1</th>\n",
       "      <td>Adventure Action Science Fiction</td>\n",
       "      <td>android galaxy hermit death star lightsaber</td>\n",
       "      <td>A long time ago in a galaxy far, far away...</td>\n",
       "      <td>Mark Hamill Harrison Ford Carrie Fisher Peter ...</td>\n",
       "      <td>George Lucas</td>\n",
       "    </tr>\n",
       "    <tr>\n",
       "      <th>2</th>\n",
       "      <td>Animation Family</td>\n",
       "      <td>father son relationship harbor underwater fish...</td>\n",
       "      <td>There are 3.7 trillion fish in the ocean, they...</td>\n",
       "      <td>Albert Brooks Ellen DeGeneres Alexander Gould ...</td>\n",
       "      <td>Andrew Stanton</td>\n",
       "    </tr>\n",
       "    <tr>\n",
       "      <th>3</th>\n",
       "      <td>Comedy Drama Romance</td>\n",
       "      <td>vietnam veteran hippie mentally disabled runni...</td>\n",
       "      <td>The world will never be the same, once you've ...</td>\n",
       "      <td>Tom Hanks Robin Wright Gary Sinise Mykelti Wil...</td>\n",
       "      <td>Robert Zemeckis</td>\n",
       "    </tr>\n",
       "    <tr>\n",
       "      <th>4</th>\n",
       "      <td>Drama</td>\n",
       "      <td>male nudity female nudity adultery midlife cri...</td>\n",
       "      <td>Look closer.</td>\n",
       "      <td>Kevin Spacey Annette Bening Thora Birch Wes Be...</td>\n",
       "      <td>Sam Mendes</td>\n",
       "    </tr>\n",
       "    <tr>\n",
       "      <th>...</th>\n",
       "      <td>...</td>\n",
       "      <td>...</td>\n",
       "      <td>...</td>\n",
       "      <td>...</td>\n",
       "      <td>...</td>\n",
       "    </tr>\n",
       "    <tr>\n",
       "      <th>4755</th>\n",
       "      <td>Horror</td>\n",
       "      <td>NaN</td>\n",
       "      <td>The hot spot where Satan's waitin'.</td>\n",
       "      <td>Lisa Hart Carroll Michael Des Barres Paul Drak...</td>\n",
       "      <td>Pece Dingo</td>\n",
       "    </tr>\n",
       "    <tr>\n",
       "      <th>4756</th>\n",
       "      <td>Comedy Family Drama</td>\n",
       "      <td>NaN</td>\n",
       "      <td>It’s better to stand out than to fit in.</td>\n",
       "      <td>Roni Akurati Brighton Sharbino Jason Lee Anjul...</td>\n",
       "      <td>Frank Lotito</td>\n",
       "    </tr>\n",
       "    <tr>\n",
       "      <th>4757</th>\n",
       "      <td>Thriller Drama</td>\n",
       "      <td>christian film sex trafficking</td>\n",
       "      <td>She never knew it could happen to her...</td>\n",
       "      <td>Nicole Smolen Kim Baldwin Ariana Stephens Brys...</td>\n",
       "      <td>Jaco Booyens</td>\n",
       "    </tr>\n",
       "    <tr>\n",
       "      <th>4758</th>\n",
       "      <td>Family</td>\n",
       "      <td>NaN</td>\n",
       "      <td>NaN</td>\n",
       "      <td>NaN</td>\n",
       "      <td>NaN</td>\n",
       "    </tr>\n",
       "    <tr>\n",
       "      <th>4759</th>\n",
       "      <td>Documentary</td>\n",
       "      <td>music actors legendary perfomer classic hollyw...</td>\n",
       "      <td>NaN</td>\n",
       "      <td>Tony Oppedisano</td>\n",
       "      <td>Simon Napier-Bell</td>\n",
       "    </tr>\n",
       "  </tbody>\n",
       "</table>\n",
       "<p>4760 rows × 5 columns</p>\n",
       "</div>"
      ],
      "text/plain": [
       "                           Movie_Genre  \\\n",
       "0                         Crime Comedy   \n",
       "1     Adventure Action Science Fiction   \n",
       "2                     Animation Family   \n",
       "3                 Comedy Drama Romance   \n",
       "4                                Drama   \n",
       "...                                ...   \n",
       "4755                            Horror   \n",
       "4756               Comedy Family Drama   \n",
       "4757                    Thriller Drama   \n",
       "4758                            Family   \n",
       "4759                       Documentary   \n",
       "\n",
       "                                         Movie_Keywords  \\\n",
       "0             hotel new year's eve witch bet hotel room   \n",
       "1           android galaxy hermit death star lightsaber   \n",
       "2     father son relationship harbor underwater fish...   \n",
       "3     vietnam veteran hippie mentally disabled runni...   \n",
       "4     male nudity female nudity adultery midlife cri...   \n",
       "...                                                 ...   \n",
       "4755                                                NaN   \n",
       "4756                                                NaN   \n",
       "4757                     christian film sex trafficking   \n",
       "4758                                                NaN   \n",
       "4759  music actors legendary perfomer classic hollyw...   \n",
       "\n",
       "                                          Movie_Tagline  \\\n",
       "0     Twelve outrageous guests. Four scandalous requ...   \n",
       "1          A long time ago in a galaxy far, far away...   \n",
       "2     There are 3.7 trillion fish in the ocean, they...   \n",
       "3     The world will never be the same, once you've ...   \n",
       "4                                          Look closer.   \n",
       "...                                                 ...   \n",
       "4755                The hot spot where Satan's waitin'.   \n",
       "4756           It’s better to stand out than to fit in.   \n",
       "4757           She never knew it could happen to her...   \n",
       "4758                                                NaN   \n",
       "4759                                                NaN   \n",
       "\n",
       "                                             Movie_Cast     Movie_Director  \n",
       "0     Tim Roth Antonio Banderas Jennifer Beals Madon...     Allison Anders  \n",
       "1     Mark Hamill Harrison Ford Carrie Fisher Peter ...       George Lucas  \n",
       "2     Albert Brooks Ellen DeGeneres Alexander Gould ...     Andrew Stanton  \n",
       "3     Tom Hanks Robin Wright Gary Sinise Mykelti Wil...    Robert Zemeckis  \n",
       "4     Kevin Spacey Annette Bening Thora Birch Wes Be...         Sam Mendes  \n",
       "...                                                 ...                ...  \n",
       "4755  Lisa Hart Carroll Michael Des Barres Paul Drak...         Pece Dingo  \n",
       "4756  Roni Akurati Brighton Sharbino Jason Lee Anjul...       Frank Lotito  \n",
       "4757  Nicole Smolen Kim Baldwin Ariana Stephens Brys...       Jaco Booyens  \n",
       "4758                                                NaN                NaN  \n",
       "4759                                    Tony Oppedisano  Simon Napier-Bell  \n",
       "\n",
       "[4760 rows x 5 columns]"
      ]
     },
     "execution_count": 12,
     "metadata": {},
     "output_type": "execute_result"
    }
   ],
   "source": [
    "features"
   ]
  },
  {
   "cell_type": "code",
   "execution_count": 13,
   "metadata": {},
   "outputs": [
    {
     "data": {
      "text/plain": [
       "Movie_Genre         0\n",
       "Movie_Keywords    387\n",
       "Movie_Tagline     818\n",
       "Movie_Cast         27\n",
       "Movie_Director     22\n",
       "dtype: int64"
      ]
     },
     "execution_count": 13,
     "metadata": {},
     "output_type": "execute_result"
    }
   ],
   "source": [
    "#NaN values\n",
    "features.isnull().sum()"
   ]
  },
  {
   "cell_type": "code",
   "execution_count": 14,
   "metadata": {},
   "outputs": [
    {
     "data": {
      "text/plain": [
       "(4760, 5)"
      ]
     },
     "execution_count": 14,
     "metadata": {},
     "output_type": "execute_result"
    }
   ],
   "source": [
    "features.shape"
   ]
  },
  {
   "cell_type": "code",
   "execution_count": 17,
   "metadata": {},
   "outputs": [],
   "source": [
    "X = features['Movie_Genre'] + ' '  + features['Movie_Keywords'] + ' ' + features['Movie_Tagline'] + ' ' + features['Movie_Cast'] + ' ' + features['Movie_Director']"
   ]
  },
  {
   "cell_type": "code",
   "execution_count": 18,
   "metadata": {},
   "outputs": [
    {
     "data": {
      "text/plain": [
       "0       Crime Comedy hotel new year's eve witch bet ho...\n",
       "1       Adventure Action Science Fiction android galax...\n",
       "2       Animation Family father son relationship harbo...\n",
       "3       Comedy Drama Romance vietnam veteran hippie me...\n",
       "4       Drama male nudity female nudity adultery midli...\n",
       "                              ...                        \n",
       "4755                                                  NaN\n",
       "4756                                                  NaN\n",
       "4757    Thriller Drama christian film sex trafficking ...\n",
       "4758                                                  NaN\n",
       "4759                                                  NaN\n",
       "Length: 4760, dtype: object"
      ]
     },
     "execution_count": 18,
     "metadata": {},
     "output_type": "execute_result"
    }
   ],
   "source": [
    "X"
   ]
  },
  {
   "cell_type": "code",
   "execution_count": 19,
   "metadata": {},
   "outputs": [],
   "source": [
    "#handle NaN values\n",
    "X.fillna('Unknown', inplace=True)"
   ]
  },
  {
   "cell_type": "code",
   "execution_count": 20,
   "metadata": {},
   "outputs": [
    {
     "data": {
      "text/plain": [
       "0       Crime Comedy hotel new year's eve witch bet ho...\n",
       "1       Adventure Action Science Fiction android galax...\n",
       "2       Animation Family father son relationship harbo...\n",
       "3       Comedy Drama Romance vietnam veteran hippie me...\n",
       "4       Drama male nudity female nudity adultery midli...\n",
       "                              ...                        \n",
       "4755                                              Unknown\n",
       "4756                                              Unknown\n",
       "4757    Thriller Drama christian film sex trafficking ...\n",
       "4758                                              Unknown\n",
       "4759                                              Unknown\n",
       "Length: 4760, dtype: object"
      ]
     },
     "execution_count": 20,
     "metadata": {},
     "output_type": "execute_result"
    }
   ],
   "source": [
    "X"
   ]
  },
  {
   "cell_type": "code",
   "execution_count": 21,
   "metadata": {},
   "outputs": [],
   "source": [
    "#get feature text conversion to token\n",
    "from sklearn.feature_extraction.text import TfidfVectorizer\n",
    "vectorizer = TfidfVectorizer()\n",
    "X = vectorizer.fit_transform(X)\n"
   ]
  },
  {
   "cell_type": "code",
   "execution_count": 23,
   "metadata": {},
   "outputs": [
    {
     "data": {
      "text/plain": [
       "(4760, 14759)"
      ]
     },
     "execution_count": 23,
     "metadata": {},
     "output_type": "execute_result"
    }
   ],
   "source": [
    "X.shape"
   ]
  },
  {
   "cell_type": "code",
   "execution_count": 24,
   "metadata": {},
   "outputs": [
    {
     "name": "stdout",
     "output_type": "stream",
     "text": [
      "  (0, 533)\t0.16400730347966605\n",
      "  (0, 428)\t0.14480710249054038\n",
      "  (0, 13193)\t0.1460072234045736\n",
      "  (0, 8247)\t0.14258556698453415\n",
      "  (0, 8077)\t0.1669712770888808\n",
      "  (0, 1178)\t0.1669712770888808\n",
      "  (0, 6720)\t0.09939253039334757\n",
      "  (0, 1034)\t0.14056628189744372\n",
      "  (0, 633)\t0.13700718336702736\n",
      "  (0, 11181)\t0.14366855395969502\n",
      "  (0, 13141)\t0.10816721996836318\n",
      "  (0, 7722)\t0.0874285167465866\n",
      "  (0, 9512)\t0.06394158650289854\n",
      "  (0, 14351)\t0.1744398940932959\n",
      "  (0, 4823)\t0.08589709371345547\n",
      "  (0, 14317)\t0.10686114739776267\n",
      "  (0, 6783)\t0.13255293007270985\n",
      "  (0, 13017)\t0.09959538243705136\n",
      "  (0, 9578)\t0.0736878087323703\n",
      "  (0, 3325)\t0.11965590860182923\n",
      "  (0, 4727)\t0.11432976440217778\n",
      "  (0, 6061)\t0.19730018458027812\n",
      "  (0, 6401)\t0.14921553081605893\n",
      "  (0, 1273)\t0.19477864361326694\n",
      "  (0, 7859)\t0.15005418398894924\n",
      "  :\t:\n",
      "  (4757, 6612)\t0.282967046407734\n",
      "  (4757, 1886)\t0.282967046407734\n",
      "  (4757, 702)\t0.282967046407734\n",
      "  (4757, 12126)\t0.282967046407734\n",
      "  (4757, 4987)\t0.24256955606784908\n",
      "  (4757, 13280)\t0.24256955606784908\n",
      "  (4757, 12455)\t0.2382636073135533\n",
      "  (4757, 1010)\t0.1897620522430951\n",
      "  (4757, 2978)\t0.19673453718663794\n",
      "  (4757, 5712)\t0.22021783652075874\n",
      "  (4757, 11830)\t0.16361221671972725\n",
      "  (4757, 11740)\t0.15120773298106838\n",
      "  (4757, 9333)\t0.19160522332095334\n",
      "  (4757, 4685)\t0.13414457066004923\n",
      "  (4757, 2517)\t0.16786134305412895\n",
      "  (4757, 7244)\t0.23446549133727582\n",
      "  (4757, 5948)\t0.16878274045037628\n",
      "  (4757, 7171)\t0.17916887523686975\n",
      "  (4757, 13095)\t0.08017430864947131\n",
      "  (4757, 13165)\t0.09777405967688488\n",
      "  (4757, 6577)\t0.11402334640583417\n",
      "  (4757, 9287)\t0.14374223792809548\n",
      "  (4757, 3850)\t0.06524734955166166\n",
      "  (4758, 13770)\t1.0\n",
      "  (4759, 13770)\t1.0\n"
     ]
    }
   ],
   "source": [
    "print(X)"
   ]
  },
  {
   "cell_type": "code",
   "execution_count": 27,
   "metadata": {},
   "outputs": [],
   "source": [
    "#get cosine similarity\n",
    "from sklearn.metrics.pairwise import cosine_similarity\n",
    "similarity_score = cosine_similarity(X)\n"
   ]
  },
  {
   "cell_type": "code",
   "execution_count": 28,
   "metadata": {},
   "outputs": [
    {
     "data": {
      "text/plain": [
       "array([[1.        , 0.01383423, 0.03601212, ..., 0.        , 0.        ,\n",
       "        0.        ],\n",
       "       [0.01383423, 1.        , 0.00822535, ..., 0.        , 0.        ,\n",
       "        0.        ],\n",
       "       [0.03601212, 0.00822535, 1.        , ..., 0.        , 0.        ,\n",
       "        0.        ],\n",
       "       ...,\n",
       "       [0.        , 0.        , 0.        , ..., 1.        , 0.        ,\n",
       "        0.        ],\n",
       "       [0.        , 0.        , 0.        , ..., 0.        , 1.        ,\n",
       "        1.        ],\n",
       "       [0.        , 0.        , 0.        , ..., 0.        , 1.        ,\n",
       "        1.        ]])"
      ]
     },
     "execution_count": 28,
     "metadata": {},
     "output_type": "execute_result"
    }
   ],
   "source": [
    "similarity_score"
   ]
  },
  {
   "cell_type": "code",
   "execution_count": 31,
   "metadata": {},
   "outputs": [],
   "source": [
    "#get movie title as input from the user and validate for closest spelling\n",
    "movie_title = input(\"Enter the movie title: \")\n",
    "\n"
   ]
  },
  {
   "cell_type": "code",
   "execution_count": 32,
   "metadata": {},
   "outputs": [],
   "source": [
    "All_movie_titles = df['Movie_Title'].tolist()"
   ]
  },
  {
   "cell_type": "code",
   "execution_count": 33,
   "metadata": {},
   "outputs": [],
   "source": [
    "import difflib\n",
    "# The difflib module contains tools for computing and working with differences between sequences."
   ]
  },
  {
   "cell_type": "code",
   "execution_count": 38,
   "metadata": {},
   "outputs": [
    {
     "data": {
      "text/plain": [
       "['Æon Flux']"
      ]
     },
     "execution_count": 38,
     "metadata": {},
     "output_type": "execute_result"
    }
   ],
   "source": [
    "movie_recommendation = difflib.get_close_matches(movie_title, All_movie_titles, n=1, cutoff=0.0)\n",
    "movie_recommendation"
   ]
  },
  {
   "cell_type": "code",
   "execution_count": 39,
   "metadata": {},
   "outputs": [
    {
     "data": {
      "text/plain": [
       "'Æon Flux'"
      ]
     },
     "execution_count": 39,
     "metadata": {},
     "output_type": "execute_result"
    }
   ],
   "source": [
    "closest_movie_title = movie_recommendation[0]\n",
    "closest_movie_title"
   ]
  },
  {
   "cell_type": "code",
   "execution_count": 41,
   "metadata": {},
   "outputs": [
    {
     "data": {
      "text/plain": [
       "1066"
      ]
     },
     "execution_count": 41,
     "metadata": {},
     "output_type": "execute_result"
    }
   ],
   "source": [
    "index_of_closest_movie_title = All_movie_titles.index(closest_movie_title)\n",
    "index_of_closest_movie_title"
   ]
  },
  {
   "cell_type": "code",
   "execution_count": 42,
   "metadata": {},
   "outputs": [
    {
     "data": {
      "text/plain": [
       "array([0.01957126, 0.02238028, 0.00751991, ..., 0.        , 0.        ,\n",
       "       0.        ])"
      ]
     },
     "execution_count": 42,
     "metadata": {},
     "output_type": "execute_result"
    }
   ],
   "source": [
    "#get the similarity score of the movie title entered by the user with all the movie titles in the dataset\n",
    "similarity_score_of_closest_movie_title = similarity_score[index_of_closest_movie_title]\n",
    "similarity_score_of_closest_movie_title"
   ]
  },
  {
   "cell_type": "code",
   "execution_count": 43,
   "metadata": {},
   "outputs": [
    {
     "data": {
      "text/plain": [
       "4760"
      ]
     },
     "execution_count": 43,
     "metadata": {},
     "output_type": "execute_result"
    }
   ],
   "source": [
    "len(similarity_score_of_closest_movie_title)"
   ]
  },
  {
   "cell_type": "code",
   "execution_count": 47,
   "metadata": {},
   "outputs": [],
   "source": [
    "#get all movies sorted in descending order of their similarity score with the movie title entered by the user\n",
    "sorted_similar_movies = sorted(list(enumerate(similarity_score_of_closest_movie_title)), key=lambda x:x[1], reverse=True)"
   ]
  },
  {
   "cell_type": "code",
   "execution_count": 49,
   "metadata": {},
   "outputs": [
    {
     "name": "stdout",
     "output_type": "stream",
     "text": [
      "Top 30 similar movies to  are:\n",
      "\n",
      "Æon Flux\n",
      "Scoop\n",
      "Killers\n",
      "Mad Max: Fury Road\n",
      "After Earth\n",
      "The Bourne Identity\n",
      "Resident Evil: Apocalypse\n",
      "All Good Things\n",
      "North Country\n",
      "The Equalizer\n",
      "The Great Raid\n",
      "Superman II\n",
      "Elektra\n",
      "In the Valley of Elah\n",
      "Trainspotting\n",
      "The Road\n",
      "Kingdom of Heaven\n",
      "The Man with the Golden Gun\n",
      "Jennifer's Body\n",
      "Serenity\n",
      "A Guy Thing\n",
      "The Host\n",
      "Wonder Boys\n",
      "Bloodsport\n",
      "The Mechanic\n",
      "Minority Report\n",
      "Transformers: Dark of the Moon\n",
      "The Green Hornet\n",
      "Excessive Force\n",
      "Dream House\n",
      "Reindeer Games\n"
     ]
    }
   ],
   "source": [
    "#print the top 10 similar movies\n",
    "i=0\n",
    "print(\"Top 30 similar movies to  are:\\n\")\n",
    "for movie in sorted_similar_movies:\n",
    "    print(All_movie_titles[movie[0]])\n",
    "    i=i+1\n",
    "    if i>30:\n",
    "        break\n"
   ]
  },
  {
   "cell_type": "code",
   "execution_count": 51,
   "metadata": {},
   "outputs": [
    {
     "name": "stdout",
     "output_type": "stream",
     "text": [
      "Top 10 similar movies to avtaar are:\n",
      "\n",
      "Avatar\n",
      "Aliens\n",
      "Guardians of the Galaxy\n",
      "Alien\n",
      "Star Trek Into Darkness\n",
      "Galaxy Quest\n",
      "Alien³\n",
      "Gravity\n",
      "Moonraker\n",
      "Jason X\n",
      "Pocahontas\n"
     ]
    }
   ],
   "source": [
    "#top 10 recommended movies\n",
    "movie_name = input(\"Enter the movie title: \")\n",
    "list_of_movies = df['Movie_Title'].tolist()\n",
    "find_closest_movie_title = difflib.get_close_matches(movie_name, list_of_movies, n=1, cutoff=0.0)\n",
    "closest_movie_title = find_closest_movie_title[0]\n",
    "index_of_closest_movie_title = list_of_movies.index(closest_movie_title)\n",
    "similarity_score_of_closest_movie_title = similarity_score[index_of_closest_movie_title]\n",
    "sorted_similar_movies = sorted(list(enumerate(similarity_score_of_closest_movie_title)), key=lambda x:x[1], reverse=True)\n",
    "i=0\n",
    "print(\"Top 10 similar movies to \"+movie_name+\" are:\\n\")\n",
    "for movie in sorted_similar_movies:\n",
    "    print(list_of_movies[movie[0]])\n",
    "    i=i+1\n",
    "    if i>10:\n",
    "        break\n"
   ]
  }
 ],
 "metadata": {
  "kernelspec": {
   "display_name": "computerVision",
   "language": "python",
   "name": "python3"
  },
  "language_info": {
   "codemirror_mode": {
    "name": "ipython",
    "version": 3
   },
   "file_extension": ".py",
   "mimetype": "text/x-python",
   "name": "python",
   "nbconvert_exporter": "python",
   "pygments_lexer": "ipython3",
   "version": "3.8.17"
  },
  "orig_nbformat": 4
 },
 "nbformat": 4,
 "nbformat_minor": 2
}
